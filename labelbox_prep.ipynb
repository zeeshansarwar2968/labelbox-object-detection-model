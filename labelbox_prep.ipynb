{
 "cells": [
  {
   "attachments": {},
   "cell_type": "markdown",
   "metadata": {},
   "source": [
    "### Labelbox Json input file preparation"
   ]
  },
  {
   "cell_type": "code",
   "execution_count": 19,
   "metadata": {},
   "outputs": [],
   "source": [
    "# Importing required libraries\n",
    "import cv2\n",
    "import numpy as np\n",
    "from os import listdir\n",
    "from os.path import isfile, join\n",
    "import pandas as pd"
   ]
  },
  {
   "cell_type": "code",
   "execution_count": null,
   "metadata": {},
   "outputs": [],
   "source": [
    "# gs://vertex_data_demo_001/auto-img-10.jpg"
   ]
  },
  {
   "cell_type": "code",
   "execution_count": 14,
   "metadata": {},
   "outputs": [],
   "source": [
    "myinputpath ='vehicle_Input_data_cleaned'"
   ]
  },
  {
   "cell_type": "code",
   "execution_count": 23,
   "metadata": {},
   "outputs": [],
   "source": [
    "list_files = [f for f in listdir(myinputpath) if isfile(join(myinputpath, f))]"
   ]
  },
  {
   "cell_type": "code",
   "execution_count": 24,
   "metadata": {},
   "outputs": [],
   "source": [
    "listofgsutil = []\n",
    "for i in list_files:\n",
    "    listofgsutil.append(f'gs://vertex_data_demo_001/{i}')"
   ]
  },
  {
   "cell_type": "code",
   "execution_count": 11,
   "metadata": {},
   "outputs": [],
   "source": [
    "dictofgsutil = []\n",
    "for i in list_files:\n",
    "    temp = {'row_data' : f'gs://labelbox-demo-project/{i}'}\n",
    "    dictofgsutil.append(temp)"
   ]
  },
  {
   "cell_type": "code",
   "execution_count": 25,
   "metadata": {},
   "outputs": [
    {
     "data": {
      "text/plain": [
       "['gs://vertex_data_demo_001/auto-img-10.jpg',\n",
       " 'gs://vertex_data_demo_001/auto-img-12.jpg',\n",
       " 'gs://vertex_data_demo_001/auto-img-13.jpg',\n",
       " 'gs://vertex_data_demo_001/auto-img-16.jpg',\n",
       " 'gs://vertex_data_demo_001/auto-img-17.jpg',\n",
       " 'gs://vertex_data_demo_001/auto-img-20.jpg',\n",
       " 'gs://vertex_data_demo_001/auto-img-3.jpg',\n",
       " 'gs://vertex_data_demo_001/auto-img-4.jpg',\n",
       " 'gs://vertex_data_demo_001/auto-img-5.jpg',\n",
       " 'gs://vertex_data_demo_001/auto-img-7.jpg',\n",
       " 'gs://vertex_data_demo_001/bike-img-1.jpg',\n",
       " 'gs://vertex_data_demo_001/bike-img-10.jpg',\n",
       " 'gs://vertex_data_demo_001/bike-img-11.jpg',\n",
       " 'gs://vertex_data_demo_001/bike-img-12.jpg',\n",
       " 'gs://vertex_data_demo_001/bike-img-13.jpg',\n",
       " 'gs://vertex_data_demo_001/bike-img-14.jpg',\n",
       " 'gs://vertex_data_demo_001/bike-img-2.jpg',\n",
       " 'gs://vertex_data_demo_001/bike-img-3.jpg',\n",
       " 'gs://vertex_data_demo_001/bike-img-4.jpg',\n",
       " 'gs://vertex_data_demo_001/bike-img-5.jpg',\n",
       " 'gs://vertex_data_demo_001/bike-img-6.jpg',\n",
       " 'gs://vertex_data_demo_001/bike-img-7.jpg',\n",
       " 'gs://vertex_data_demo_001/bike-img-8.jpg',\n",
       " 'gs://vertex_data_demo_001/bike-img-9.jpg',\n",
       " 'gs://vertex_data_demo_001/bus-img-1.jpg',\n",
       " 'gs://vertex_data_demo_001/bus-img-10.jpg',\n",
       " 'gs://vertex_data_demo_001/bus-img-2.jpg',\n",
       " 'gs://vertex_data_demo_001/bus-img-3.jpg',\n",
       " 'gs://vertex_data_demo_001/bus-img-4.jpg',\n",
       " 'gs://vertex_data_demo_001/bus-img-5.jpg',\n",
       " 'gs://vertex_data_demo_001/bus-img-6.jpg',\n",
       " 'gs://vertex_data_demo_001/bus-img-7.jpg',\n",
       " 'gs://vertex_data_demo_001/bus-img-8.jpg',\n",
       " 'gs://vertex_data_demo_001/bus-img-9.jpg',\n",
       " 'gs://vertex_data_demo_001/tempo-img-1.jpg',\n",
       " 'gs://vertex_data_demo_001/tempo-img-10.jpg',\n",
       " 'gs://vertex_data_demo_001/tempo-img-11.jpg',\n",
       " 'gs://vertex_data_demo_001/tempo-img-13.jpg',\n",
       " 'gs://vertex_data_demo_001/tempo-img-4.jpg',\n",
       " 'gs://vertex_data_demo_001/tempo-img-5.jpg',\n",
       " 'gs://vertex_data_demo_001/tempo-img-6.jpg',\n",
       " 'gs://vertex_data_demo_001/tempo-img-7.jpg',\n",
       " 'gs://vertex_data_demo_001/tempo-img-8.jpg',\n",
       " 'gs://vertex_data_demo_001/tempo-img-9.jpg',\n",
       " 'gs://vertex_data_demo_001/tractor-img-1.jpg',\n",
       " 'gs://vertex_data_demo_001/tractor-img-11.jpg',\n",
       " 'gs://vertex_data_demo_001/tractor-img-12.jpg',\n",
       " 'gs://vertex_data_demo_001/tractor-img-14.jpg',\n",
       " 'gs://vertex_data_demo_001/tractor-img-2.jpg',\n",
       " 'gs://vertex_data_demo_001/tractor-img-3.jpg',\n",
       " 'gs://vertex_data_demo_001/tractor-img-4.jpg',\n",
       " 'gs://vertex_data_demo_001/tractor-img-5.jpg',\n",
       " 'gs://vertex_data_demo_001/tractor-img-7.jpg',\n",
       " 'gs://vertex_data_demo_001/tractor-img-9.jpg',\n",
       " 'gs://vertex_data_demo_001/truck-img-10.jpg',\n",
       " 'gs://vertex_data_demo_001/truck-img-11.jpg',\n",
       " 'gs://vertex_data_demo_001/truck-img-12.jpg',\n",
       " 'gs://vertex_data_demo_001/truck-img-13.jpg',\n",
       " 'gs://vertex_data_demo_001/truck-img-14.jpg',\n",
       " 'gs://vertex_data_demo_001/truck-img-15.jpg',\n",
       " 'gs://vertex_data_demo_001/truck-img-3.jpg',\n",
       " 'gs://vertex_data_demo_001/truck-img-6.jpg',\n",
       " 'gs://vertex_data_demo_001/truck-img-7.jpg',\n",
       " 'gs://vertex_data_demo_001/truck-img-9.jpg']"
      ]
     },
     "execution_count": 25,
     "metadata": {},
     "output_type": "execute_result"
    }
   ],
   "source": [
    "listofgsutil"
   ]
  },
  {
   "cell_type": "code",
   "execution_count": 26,
   "metadata": {},
   "outputs": [],
   "source": [
    "df = pd.DataFrame(listofgsutil)"
   ]
  },
  {
   "cell_type": "code",
   "execution_count": 21,
   "metadata": {},
   "outputs": [
    {
     "data": {
      "text/html": [
       "<div>\n",
       "<style scoped>\n",
       "    .dataframe tbody tr th:only-of-type {\n",
       "        vertical-align: middle;\n",
       "    }\n",
       "\n",
       "    .dataframe tbody tr th {\n",
       "        vertical-align: top;\n",
       "    }\n",
       "\n",
       "    .dataframe thead th {\n",
       "        text-align: right;\n",
       "    }\n",
       "</style>\n",
       "<table border=\"1\" class=\"dataframe\">\n",
       "  <thead>\n",
       "    <tr style=\"text-align: right;\">\n",
       "      <th></th>\n",
       "      <th>0</th>\n",
       "    </tr>\n",
       "  </thead>\n",
       "  <tbody>\n",
       "    <tr>\n",
       "      <th>0</th>\n",
       "      <td>gs://labelbox-demo-project/auto-img-10.jpg</td>\n",
       "    </tr>\n",
       "    <tr>\n",
       "      <th>1</th>\n",
       "      <td>gs://labelbox-demo-project/auto-img-12.jpg</td>\n",
       "    </tr>\n",
       "    <tr>\n",
       "      <th>2</th>\n",
       "      <td>gs://labelbox-demo-project/auto-img-13.jpg</td>\n",
       "    </tr>\n",
       "    <tr>\n",
       "      <th>3</th>\n",
       "      <td>gs://labelbox-demo-project/auto-img-16.jpg</td>\n",
       "    </tr>\n",
       "    <tr>\n",
       "      <th>4</th>\n",
       "      <td>gs://labelbox-demo-project/auto-img-17.jpg</td>\n",
       "    </tr>\n",
       "    <tr>\n",
       "      <th>...</th>\n",
       "      <td>...</td>\n",
       "    </tr>\n",
       "    <tr>\n",
       "      <th>59</th>\n",
       "      <td>gs://labelbox-demo-project/truck-img-15.jpg</td>\n",
       "    </tr>\n",
       "    <tr>\n",
       "      <th>60</th>\n",
       "      <td>gs://labelbox-demo-project/truck-img-3.jpg</td>\n",
       "    </tr>\n",
       "    <tr>\n",
       "      <th>61</th>\n",
       "      <td>gs://labelbox-demo-project/truck-img-6.jpg</td>\n",
       "    </tr>\n",
       "    <tr>\n",
       "      <th>62</th>\n",
       "      <td>gs://labelbox-demo-project/truck-img-7.jpg</td>\n",
       "    </tr>\n",
       "    <tr>\n",
       "      <th>63</th>\n",
       "      <td>gs://labelbox-demo-project/truck-img-9.jpg</td>\n",
       "    </tr>\n",
       "  </tbody>\n",
       "</table>\n",
       "<p>64 rows × 1 columns</p>\n",
       "</div>"
      ],
      "text/plain": [
       "                                              0\n",
       "0    gs://labelbox-demo-project/auto-img-10.jpg\n",
       "1    gs://labelbox-demo-project/auto-img-12.jpg\n",
       "2    gs://labelbox-demo-project/auto-img-13.jpg\n",
       "3    gs://labelbox-demo-project/auto-img-16.jpg\n",
       "4    gs://labelbox-demo-project/auto-img-17.jpg\n",
       "..                                          ...\n",
       "59  gs://labelbox-demo-project/truck-img-15.jpg\n",
       "60   gs://labelbox-demo-project/truck-img-3.jpg\n",
       "61   gs://labelbox-demo-project/truck-img-6.jpg\n",
       "62   gs://labelbox-demo-project/truck-img-7.jpg\n",
       "63   gs://labelbox-demo-project/truck-img-9.jpg\n",
       "\n",
       "[64 rows x 1 columns]"
      ]
     },
     "execution_count": 21,
     "metadata": {},
     "output_type": "execute_result"
    }
   ],
   "source": [
    "df"
   ]
  },
  {
   "cell_type": "code",
   "execution_count": 27,
   "metadata": {},
   "outputs": [],
   "source": [
    "df.to_csv('vertexaiInput_blank.csv')"
   ]
  }
 ],
 "metadata": {
  "kernelspec": {
   "display_name": "Python 3",
   "language": "python",
   "name": "python3"
  },
  "language_info": {
   "codemirror_mode": {
    "name": "ipython",
    "version": 3
   },
   "file_extension": ".py",
   "mimetype": "text/x-python",
   "name": "python",
   "nbconvert_exporter": "python",
   "pygments_lexer": "ipython3",
   "version": "3.10.9"
  },
  "orig_nbformat": 4
 },
 "nbformat": 4,
 "nbformat_minor": 2
}
