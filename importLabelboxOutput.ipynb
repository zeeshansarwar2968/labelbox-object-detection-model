{
 "cells": [
  {
   "cell_type": "code",
   "execution_count": 1,
   "metadata": {},
   "outputs": [
    {
     "ename": "ModuleNotFoundError",
     "evalue": "No module named 'labelbox'",
     "output_type": "error",
     "traceback": [
      "\u001b[1;31m---------------------------------------------------------------------------\u001b[0m",
      "\u001b[1;31mModuleNotFoundError\u001b[0m                       Traceback (most recent call last)",
      "Cell \u001b[1;32mIn[1], line 4\u001b[0m\n\u001b[0;32m      1\u001b[0m \u001b[39m# install latest labelbox version (3.0 or above)\u001b[39;00m\n\u001b[0;32m      2\u001b[0m \u001b[39m# !pip3 install labelbox[data]\u001b[39;00m\n\u001b[1;32m----> 4\u001b[0m \u001b[39mimport\u001b[39;00m \u001b[39mlabelbox\u001b[39;00m\n",
      "\u001b[1;31mModuleNotFoundError\u001b[0m: No module named 'labelbox'"
     ]
    }
   ],
   "source": [
    "# install latest labelbox version (3.0 or above)\n",
    "# !pip3 install labelbox[data]\n",
    "\n",
    "import labelbox"
   ]
  },
  {
   "cell_type": "code",
   "execution_count": null,
   "metadata": {},
   "outputs": [],
   "source": [
    "\n",
    "# Enter your Labelbox API key here\n",
    "LB_API_KEY = \"\"\n",
    "# Create Labelbox client\n",
    "lb = labelbox.Client(api_key=LB_API_KEY)\n",
    "# Get project by ID\n",
    "project = lb.get_project('clid62kgj04jm07vm462nbo1x')\n",
    "# Export image and text data as an annotation generator:\n",
    "labels = project.label_generator()\n",
    "# Export video annotations as an annotation generator:\n",
    "labels = project.video_label_generator()\n",
    "# Export labels created in the selected date range as a json file:\n",
    "labels = project.export_labels(download = True, start=\"2023-05-30\", end=\"2023-06-05\")"
   ]
  }
 ],
 "metadata": {
  "kernelspec": {
   "display_name": "Python 3",
   "language": "python",
   "name": "python3"
  },
  "language_info": {
   "codemirror_mode": {
    "name": "ipython",
    "version": 3
   },
   "file_extension": ".py",
   "mimetype": "text/x-python",
   "name": "python",
   "nbconvert_exporter": "python",
   "pygments_lexer": "ipython3",
   "version": "3.10.9"
  },
  "orig_nbformat": 4
 },
 "nbformat": 4,
 "nbformat_minor": 2
}
