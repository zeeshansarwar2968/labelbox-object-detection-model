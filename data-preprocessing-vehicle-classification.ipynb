{
 "cells": [
  {
   "cell_type": "code",
   "execution_count": 1,
   "metadata": {},
   "outputs": [],
   "source": [
    "# Importing required libraries\n",
    "import cv2\n",
    "import numpy as np\n",
    "from os import listdir\n",
    "from os.path import isfile, join"
   ]
  },
  {
   "attachments": {},
   "cell_type": "markdown",
   "metadata": {},
   "source": [
    " Downsampling/downscaling and removing noise of Auto Images"
   ]
  },
  {
   "cell_type": "code",
   "execution_count": null,
   "metadata": {},
   "outputs": [],
   "source": [
    "mypath_auto ='project\\\\vehicle_data\\\\Auto'"
   ]
  },
  {
   "cell_type": "code",
   "execution_count": null,
   "metadata": {},
   "outputs": [],
   "source": [
    "auto_images = [f for f in listdir(mypath_auto) if isfile(join(mypath_auto, f))]\n",
    "auto_images = auto_images[:15]"
   ]
  },
  {
   "cell_type": "code",
   "execution_count": null,
   "metadata": {},
   "outputs": [],
   "source": [
    "num = 0\n",
    "for i in auto_images:\n",
    "    num = num+1\n",
    "    img = cv2.imread(f'project\\\\vehicle_data\\\\Auto\\\\{i}')\n",
    "    res = cv2.resize(img, dsize=(640, 420), interpolation=cv2.INTER_CUBIC)\n",
    "    cv2.imwrite(f'project\\\\vehicle_data\\\\Auto\\\\auto-img-{num}.jpg', res)"
   ]
  },
  {
   "attachments": {},
   "cell_type": "markdown",
   "metadata": {},
   "source": [
    "Downsampling/downscaling and removing noise of Bus Images"
   ]
  },
  {
   "cell_type": "code",
   "execution_count": null,
   "metadata": {},
   "outputs": [],
   "source": [
    "mypath_bus ='project\\\\vehicle_data\\\\Bus'"
   ]
  },
  {
   "cell_type": "code",
   "execution_count": null,
   "metadata": {},
   "outputs": [],
   "source": [
    "bus_images = [f for f in listdir(mypath_bus) if isfile(join(mypath_bus, f))]\n",
    "bus_images = bus_images[:15]"
   ]
  },
  {
   "cell_type": "code",
   "execution_count": null,
   "metadata": {},
   "outputs": [],
   "source": [
    "num = 0\n",
    "for i in bus_images:\n",
    "    num = num+1\n",
    "    img = cv2.imread(f'project\\\\vehicle_data\\\\Bus\\\\{i}')\n",
    "    res = cv2.resize(img, dsize=(640, 420), interpolation=cv2.INTER_CUBIC)\n",
    "    cv2.imwrite(f'project\\\\vehicle_data\\\\Bus\\\\bus-img-{num}.jpg', res)"
   ]
  },
  {
   "attachments": {},
   "cell_type": "markdown",
   "metadata": {},
   "source": [
    " Downsampling/downscaling and removing noise of Tempo Images"
   ]
  },
  {
   "cell_type": "code",
   "execution_count": null,
   "metadata": {},
   "outputs": [],
   "source": [
    "mypath_tempo ='project\\\\vehicle_data\\\\Tempo'"
   ]
  },
  {
   "cell_type": "code",
   "execution_count": null,
   "metadata": {},
   "outputs": [],
   "source": [
    "tempo_images = [f for f in listdir(mypath_tempo) if isfile(join(mypath_tempo, f))]\n",
    "tempo_images = tempo_images[:15]"
   ]
  },
  {
   "cell_type": "code",
   "execution_count": null,
   "metadata": {},
   "outputs": [],
   "source": [
    "num = 0\n",
    "for i in tempo_images:\n",
    "    num = num+1\n",
    "    img = cv2.imread(f'project\\\\vehicle_data\\\\Tempo\\\\{i}')\n",
    "    res = cv2.resize(img, dsize=(640, 420), interpolation=cv2.INTER_CUBIC)\n",
    "    cv2.imwrite(f'project\\\\vehicle_data\\\\Tempo\\\\tempo-img-{num}.jpg', res)"
   ]
  },
  {
   "attachments": {},
   "cell_type": "markdown",
   "metadata": {},
   "source": [
    " Downsampling/downscaling and removing noise of tractor Images"
   ]
  },
  {
   "cell_type": "code",
   "execution_count": null,
   "metadata": {},
   "outputs": [],
   "source": [
    "mypath_tractor ='project\\\\vehicle_data\\\\Tractor'"
   ]
  },
  {
   "cell_type": "code",
   "execution_count": null,
   "metadata": {},
   "outputs": [],
   "source": [
    "tractor_images = [f for f in listdir(mypath_tractor) if isfile(join(mypath_tractor, f))]\n",
    "tractor_images = tractor_images[:15]"
   ]
  },
  {
   "cell_type": "code",
   "execution_count": null,
   "metadata": {},
   "outputs": [],
   "source": [
    "num = 0\n",
    "for i in tractor_images:\n",
    "    num = num+1\n",
    "    img = cv2.imread(f'project\\\\vehicle_data\\\\Tractor\\\\{i}')\n",
    "    res = cv2.resize(img, dsize=(640, 420), interpolation=cv2.INTER_CUBIC)\n",
    "    cv2.imwrite(f'project\\\\vehicle_data\\\\Tractor\\\\tractor-img-{num}.jpg', res)"
   ]
  },
  {
   "attachments": {},
   "cell_type": "markdown",
   "metadata": {},
   "source": [
    "Downsampling/downscaling and removing noise truck Images"
   ]
  },
  {
   "cell_type": "code",
   "execution_count": null,
   "metadata": {},
   "outputs": [],
   "source": [
    "mypath_truck ='project\\\\vehicle_data\\\\Truck'"
   ]
  },
  {
   "cell_type": "code",
   "execution_count": null,
   "metadata": {},
   "outputs": [],
   "source": [
    "truck_images = [f for f in listdir(mypath_truck) if isfile(join(mypath_truck, f))]\n",
    "truck_images = truck_images[:15]"
   ]
  },
  {
   "cell_type": "code",
   "execution_count": null,
   "metadata": {},
   "outputs": [],
   "source": [
    "num = 0\n",
    "for i in truck_images:\n",
    "    num = num+1\n",
    "    img = cv2.imread(f'project\\\\vehicle_data\\\\Truck\\\\{i}')\n",
    "    res = cv2.resize(img, dsize=(640, 420), interpolation=cv2.INTER_CUBIC)\n",
    "    cv2.imwrite(f'project\\\\vehicle_data\\\\Truck\\\\truck-img-{num}.jpg', res)"
   ]
  },
  {
   "attachments": {},
   "cell_type": "markdown",
   "metadata": {},
   "source": [
    "Downsampling/downscaling and removing noise of bike images"
   ]
  },
  {
   "cell_type": "code",
   "execution_count": 4,
   "metadata": {},
   "outputs": [],
   "source": [
    "mypath_bike ='project\\\\vehicle_data_original\\\\bike'"
   ]
  },
  {
   "cell_type": "code",
   "execution_count": 5,
   "metadata": {},
   "outputs": [],
   "source": [
    "bike_images = [f for f in listdir(mypath_bike) if isfile(join(mypath_bike, f))]"
   ]
  },
  {
   "cell_type": "code",
   "execution_count": 6,
   "metadata": {},
   "outputs": [
    {
     "data": {
      "text/plain": [
       "['2018-Hero-Super-Splendor-first-ride-review-front-right-quarter-action-shot.jpg',\n",
       " '960x0.jpg',\n",
       " 'bike-commuter-using-mobile-phone-while-riding.jpg',\n",
       " 'd04392ff-58fc-4800-ada5-f7a0f9a0fc8d.jpg',\n",
       " 'HD-wallpaper-motorcycle-motorcyclist-bike-white-road-speed.jpg',\n",
       " 'HELMET FINE.jpg',\n",
       " 'Manali-to-Spiti-Valley-Bike-Trip-1024x576.jpg',\n",
       " 'motorcycle-bike-traffic-india.jpg',\n",
       " 'ppc-0754.JPG',\n",
       " 'qjvejkuogx-1608629944.jpg',\n",
       " 'Superbike-in-Indian-traffic.jpg',\n",
       " 'TVS-Victor-review-motion-side-lean.jpg',\n",
       " 'two_wheelers_death_india.jpg',\n",
       " 'Yamaha-MT-09-India-Ride-Review-21.jpg']"
      ]
     },
     "execution_count": 6,
     "metadata": {},
     "output_type": "execute_result"
    }
   ],
   "source": [
    "bike_images"
   ]
  },
  {
   "cell_type": "code",
   "execution_count": 7,
   "metadata": {},
   "outputs": [],
   "source": [
    "num = 0\n",
    "for i in bike_images:\n",
    "    num = num+1\n",
    "    img = cv2.imread(f'project\\\\vehicle_data_original\\\\bike\\\\{i}')\n",
    "    res = cv2.resize(img, dsize=(640, 420), interpolation=cv2.INTER_CUBIC)\n",
    "    cv2.imwrite(f'project\\\\raw_bike_data\\\\bike-img-{num}.jpg', res)"
   ]
  },
  {
   "attachments": {},
   "cell_type": "markdown",
   "metadata": {},
   "source": [
    "Data Augmentation (required for small dataset to reduce chances of overfitting and include more variance in data)"
   ]
  },
  {
   "cell_type": "code",
   "execution_count": null,
   "metadata": {},
   "outputs": [],
   "source": [
    "def data_augmentation(image_path, save_directory, num_augmented_images):\n",
    "    # Load the image\n",
    "    image = cv2.imread(image_path)\n",
    "\n",
    "    # Get the image dimensions\n",
    "    height, width, _ = image.shape\n",
    "\n",
    "    # Perform data augmentation\n",
    "    for i in range(num_augmented_images):\n",
    "        # Randomly choose an augmentation operation\n",
    "        operation = np.random.choice(['flip', 'rotate', 'blur'])\n",
    "\n",
    "        # Apply the chosen augmentation operation\n",
    "        if operation == 'flip':\n",
    "            # Flip the image horizontally or vertically\n",
    "            flip_code = np.random.choice([-1, 0, 1])\n",
    "            augmented_image = cv2.flip(image, flip_code)\n",
    "        elif operation == 'rotate':\n",
    "            # Rotate the image by a random angle between -30 and 30 degrees\n",
    "            angle = np.random.randint(-30, 30)\n",
    "            rotation_matrix = cv2.getRotationMatrix2D((width / 2, height / 2), angle, 1)\n",
    "            augmented_image = cv2.warpAffine(image, rotation_matrix, (width, height))\n",
    "        elif operation == 'blur':\n",
    "            # Apply Gaussian blur to the image\n",
    "            kernel_size = np.random.choice([3, 5, 7])\n",
    "            augmented_image = cv2.GaussianBlur(image, (kernel_size, kernel_size), 0)\n",
    "\n",
    "        # Save the augmented image\n",
    "        save_path = f\"{save_directory}/augmented_image_{i}.jpg\"\n",
    "        cv2.imwrite(save_path, augmented_image)\n",
    "\n",
    "        print(f\"Augmented image {i + 1}/{num_augmented_images} saved as {save_path}\")"
   ]
  },
  {
   "cell_type": "code",
   "execution_count": null,
   "metadata": {},
   "outputs": [],
   "source": [
    "# Example usage\n",
    "# data_augmentation('input_image.jpg', 'augmented_images', 5)"
   ]
  }
 ],
 "metadata": {
  "kernelspec": {
   "display_name": "Python 3",
   "language": "python",
   "name": "python3"
  },
  "language_info": {
   "codemirror_mode": {
    "name": "ipython",
    "version": 3
   },
   "file_extension": ".py",
   "mimetype": "text/x-python",
   "name": "python",
   "nbconvert_exporter": "python",
   "pygments_lexer": "ipython3",
   "version": "3.10.9"
  },
  "orig_nbformat": 4
 },
 "nbformat": 4,
 "nbformat_minor": 2
}
